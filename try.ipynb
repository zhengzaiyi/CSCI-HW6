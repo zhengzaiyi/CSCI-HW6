{
 "cells": [
  {
   "cell_type": "code",
   "execution_count": 1,
   "metadata": {},
   "outputs": [],
   "source": [
    "from dataclasses import dataclass\n",
    "from flask import Flask, jsonify, request\n",
    "from yelpapi import YelpAPI\n",
    "yelp_api_key = 'vzyregVWvR0tirtuW4dYVHHsipTo63Xz-Z3JPdi0oGWrYRallgGeIcmua0PlmU09xApul0Eo8HSJuR1itXtxgq5J5fQ47KZrqC_kj-Y6nl8ebyhXZ6v0Sx_NtsE-Y3Yx'\n",
    "ya = YelpAPI(yelp_api_key)"
   ]
  },
  {
   "cell_type": "code",
   "execution_count": 8,
   "metadata": {},
   "outputs": [],
   "source": [
    "a = {\n",
    "    'categories': '3dprinting',\n",
    "    'distance': 10 * 1609,\n",
    "    'location': 'Chicago',\n",
    "}\n",
    "k = ya.search_query(**a)"
   ]
  },
  {
   "cell_type": "code",
   "execution_count": 9,
   "metadata": {},
   "outputs": [
    {
     "data": {
      "text/plain": [
       "{'id': '2ANNYiGcqLkAkDWylkh8Mw',\n",
       " 'alias': '3d-printing-chicago-chicago',\n",
       " 'name': '3D Printing Chicago',\n",
       " 'image_url': 'https://s3-media2.fl.yelpcdn.com/bphoto/a15Ni9j281uIAHUIvPkRqQ/o.jpg',\n",
       " 'is_closed': False,\n",
       " 'url': 'https://www.yelp.com/biz/3d-printing-chicago-chicago?adjust_creative=zH_EOxvq2aN2P6ew3dAEAQ&utm_campaign=yelp_api_v3&utm_medium=api_v3_business_search&utm_source=zH_EOxvq2aN2P6ew3dAEAQ',\n",
       " 'review_count': 4,\n",
       " 'categories': [{'alias': '3dprinting', 'title': '3D Printing'},\n",
       "  {'alias': 'productdesign', 'title': 'Product Design'}],\n",
       " 'rating': 4.0,\n",
       " 'coordinates': {'latitude': 41.9572999, 'longitude': -87.72003},\n",
       " 'transactions': [],\n",
       " 'location': {'address1': '4159 N Lawndale Ave',\n",
       "  'address2': None,\n",
       "  'address3': None,\n",
       "  'city': 'Chicago',\n",
       "  'zip_code': '60618',\n",
       "  'country': 'US',\n",
       "  'state': 'IL',\n",
       "  'display_address': ['4159 N Lawndale Ave', 'Chicago, IL 60618']},\n",
       " 'phone': '+17739660555',\n",
       " 'display_phone': '(773) 966-0555',\n",
       " 'distance': 6772.857927789879}"
      ]
     },
     "execution_count": 9,
     "metadata": {},
     "output_type": "execute_result"
    }
   ],
   "source": [
    "k['businesses'][0]"
   ]
  },
  {
   "cell_type": "code",
   "execution_count": 2,
   "metadata": {},
   "outputs": [],
   "source": [
    "a = ya.business_query('qjnpkS8yZO8xcyEIy5OU9A')"
   ]
  },
  {
   "cell_type": "code",
   "execution_count": 8,
   "metadata": {},
   "outputs": [
    {
     "data": {
      "text/plain": [
       "['https://s3-media1.fl.yelpcdn.com/bphoto/ya6gjD4BPlxe7AKMj_5WsA/o.jpg',\n",
       " 'https://s3-media4.fl.yelpcdn.com/bphoto/msZRwFUVyHjBebs9Wl4BXA/o.jpg',\n",
       " 'https://s3-media1.fl.yelpcdn.com/bphoto/_6UjBIJ6lJQ0BENSp7DFOA/o.jpg']"
      ]
     },
     "execution_count": 8,
     "metadata": {},
     "output_type": "execute_result"
    }
   ],
   "source": [
    "a['photos']"
   ]
  },
  {
   "cell_type": "code",
   "execution_count": 7,
   "metadata": {},
   "outputs": [],
   "source": [
    "from itertools import combinations\n",
    "from typing import List\n",
    "class Solution:\n",
    "    def coinChange(self, coins: List[int], amount: int) -> int:\n",
    "        coins.sort(reverse=True)\n",
    "        result = [0] * len(coins)\n",
    "        def backTrack(coinIdx: int, result: List[int], amount: int):\n",
    "            result[coinIdx] = amount // coins[coinIdx]\n",
    "            amount %= coins[coinIdx]\n",
    "            if amount == 0:\n",
    "                return sum(result)\n",
    "            if coinIdx == len(result) - 1:\n",
    "                return -1\n",
    "            while result[coinIdx] > -1:\n",
    "                backTrack(coinIdx + 1, result, amount)\n",
    "                amount += coins[coinIdx]\n",
    "                result[coinIdx] -= 1\n",
    "        backTrack(0, result, amount)\n",
    "        return -1"
   ]
  },
  {
   "cell_type": "code",
   "execution_count": 15,
   "metadata": {},
   "outputs": [
    {
     "name": "stdout",
     "output_type": "stream",
     "text": [
      "-1\n"
     ]
    }
   ],
   "source": [
    "print(Solution().coinChange(coins=[1, 2, 5], amount=11))"
   ]
  },
  {
   "cell_type": "code",
   "execution_count": 10,
   "metadata": {},
   "outputs": [
    {
     "data": {
      "text/plain": [
       "2"
      ]
     },
     "execution_count": 10,
     "metadata": {},
     "output_type": "execute_result"
    }
   ],
   "source": [
    "11 // 5"
   ]
  },
  {
   "cell_type": "code",
   "execution_count": 1,
   "metadata": {},
   "outputs": [],
   "source": [
    "import torch\n",
    "import torch.nn.modules.transformer as transformer"
   ]
  },
  {
   "cell_type": "markdown",
   "metadata": {},
   "source": [
    "+ Fundamental of Artificial Intelligence 90\n",
    "+ Linear Algebra 93\n",
    "+ Probability and Statistics 98\n",
    "+ Mathematical Analysis 90\n",
    "+ Graph Theory 90\n",
    "+ Algebraic Structure 88\n",
    "+ Mathematical Logic 85 \n",
    "+ Data Structures 95\n",
    "+ Principles and Techniques of Compiler 90 \n",
    "+ Foundations of Algorithms 89\n",
    "+ Program Design I: 91\n",
    "+ C Language Programming II 92\n",
    "+ Function of Complex Variable B 93"
   ]
  }
 ],
 "metadata": {
  "kernelspec": {
   "display_name": "Python 3.9.12 ('base')",
   "language": "python",
   "name": "python3"
  },
  "language_info": {
   "codemirror_mode": {
    "name": "ipython",
    "version": 3
   },
   "file_extension": ".py",
   "mimetype": "text/x-python",
   "name": "python",
   "nbconvert_exporter": "python",
   "pygments_lexer": "ipython3",
   "version": "3.9.12"
  },
  "orig_nbformat": 4,
  "vscode": {
   "interpreter": {
    "hash": "2ae0e0f45525ee6f49879a40cb2da4f4d22d755a0a3ed789b7eaeac57263e622"
   }
  }
 },
 "nbformat": 4,
 "nbformat_minor": 2
}
