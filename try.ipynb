{
 "cells": [
  {
   "cell_type": "code",
   "execution_count": 2,
   "metadata": {},
   "outputs": [],
   "source": [
    "from dataclasses import dataclass\n",
    "from flask import Flask, jsonify, request\n",
    "from yelpapi import YelpAPI\n",
    "yelp_api_key = 'vzyregVWvR0tirtuW4dYVHHsipTo63Xz-Z3JPdi0oGWrYRallgGeIcmua0PlmU09xApul0Eo8HSJuR1itXtxgq5J5fQ47KZrqC_kj-Y6nl8ebyhXZ6v0Sx_NtsE-Y3Yx'\n",
    "ya = YelpAPI(yelp_api_key)"
   ]
  },
  {
   "cell_type": "code",
   "execution_count": 19,
   "metadata": {},
   "outputs": [],
   "source": [
    "a = {\n",
    "    'categories': '3dprinting',\n",
    "    'distance': 10 * 1609,\n",
    "    'location': 'Chicago',\n",
    "    'term': ''\n",
    "}\n",
    "k = ya.search_query(**a)"
   ]
  },
  {
   "cell_type": "code",
   "execution_count": 20,
   "metadata": {},
   "outputs": [
    {
     "data": {
      "text/plain": [
       "{'id': 'hpMV_zJV_Gsi6TCUObnJOQ',\n",
       " 'alias': '3dpx-additive-manufacturing-chicago',\n",
       " 'name': '3DPX Additive Manufacturing',\n",
       " 'image_url': 'https://s3-media4.fl.yelpcdn.com/bphoto/Irki-iuW5awtcvE4gApd9Q/o.jpg',\n",
       " 'is_closed': False,\n",
       " 'url': 'https://www.yelp.com/biz/3dpx-additive-manufacturing-chicago?adjust_creative=zH_EOxvq2aN2P6ew3dAEAQ&utm_campaign=yelp_api_v3&utm_medium=api_v3_business_search&utm_source=zH_EOxvq2aN2P6ew3dAEAQ',\n",
       " 'review_count': 9,\n",
       " 'categories': [{'alias': 'copyshops', 'title': 'Printing Services'},\n",
       "  {'alias': 'graphicdesign', 'title': 'Graphic Design'},\n",
       "  {'alias': '3dprinting', 'title': '3D Printing'}],\n",
       " 'rating': 4.0,\n",
       " 'coordinates': {'latitude': 41.885665, 'longitude': -87.664146},\n",
       " 'transactions': [],\n",
       " 'location': {'address1': '1444 W Lake St',\n",
       "  'address2': None,\n",
       "  'address3': '',\n",
       "  'city': 'Chicago',\n",
       "  'zip_code': '60607',\n",
       "  'country': 'US',\n",
       "  'state': 'IL',\n",
       "  'display_address': ['1444 W Lake St', 'Chicago, IL 60607']},\n",
       " 'phone': '+13128963399',\n",
       " 'display_phone': '(312) 896-3399',\n",
       " 'distance': 2443.234635920574}"
      ]
     },
     "execution_count": 20,
     "metadata": {},
     "output_type": "execute_result"
    }
   ],
   "source": [
    "k['businesses'][0]"
   ]
  },
  {
   "cell_type": "code",
   "execution_count": 6,
   "metadata": {},
   "outputs": [],
   "source": [
    "a = ya.business_query('qjnpkS8yZO8xcyEIy5OU9A')"
   ]
  },
  {
   "cell_type": "code",
   "execution_count": 9,
   "metadata": {},
   "outputs": [
    {
     "data": {
      "text/plain": [
       "{'id': 'qjnpkS8yZO8xcyEIy5OU9A',\n",
       " 'alias': 'girl-and-the-goat-chicago',\n",
       " 'name': 'Girl & The Goat',\n",
       " 'image_url': 'https://s3-media1.fl.yelpcdn.com/bphoto/ya6gjD4BPlxe7AKMj_5WsA/o.jpg',\n",
       " 'is_claimed': True,\n",
       " 'is_closed': False,\n",
       " 'url': 'https://www.yelp.com/biz/girl-and-the-goat-chicago?adjust_creative=zH_EOxvq2aN2P6ew3dAEAQ&utm_campaign=yelp_api_v3&utm_medium=api_v3_business_lookup&utm_source=zH_EOxvq2aN2P6ew3dAEAQ',\n",
       " 'phone': '+13124926262',\n",
       " 'display_phone': '(312) 492-6262',\n",
       " 'review_count': 9452,\n",
       " 'categories': [{'alias': 'newamerican', 'title': 'American (New)'},\n",
       "  {'alias': 'bakeries', 'title': 'Bakeries'},\n",
       "  {'alias': 'coffee', 'title': 'Coffee & Tea'}],\n",
       " 'rating': 4.5,\n",
       " 'location': {'address1': '809 W Randolph St',\n",
       "  'address2': '',\n",
       "  'address3': '',\n",
       "  'city': 'Chicago',\n",
       "  'zip_code': '60607',\n",
       "  'country': 'US',\n",
       "  'state': 'IL',\n",
       "  'display_address': ['809 W Randolph St', 'Chicago, IL 60607'],\n",
       "  'cross_streets': 'Green St & Halsted St'},\n",
       " 'coordinates': {'latitude': 41.88418277967144,\n",
       "  'longitude': -87.64795134659326},\n",
       " 'photos': ['https://s3-media1.fl.yelpcdn.com/bphoto/ya6gjD4BPlxe7AKMj_5WsA/o.jpg',\n",
       "  'https://s3-media4.fl.yelpcdn.com/bphoto/msZRwFUVyHjBebs9Wl4BXA/o.jpg',\n",
       "  'https://s3-media1.fl.yelpcdn.com/bphoto/_6UjBIJ6lJQ0BENSp7DFOA/o.jpg'],\n",
       " 'price': '$$$',\n",
       " 'hours': [{'open': [{'is_overnight': False,\n",
       "     'start': '1630',\n",
       "     'end': '2300',\n",
       "     'day': 0},\n",
       "    {'is_overnight': False, 'start': '1630', 'end': '2300', 'day': 1},\n",
       "    {'is_overnight': False, 'start': '1630', 'end': '2300', 'day': 2},\n",
       "    {'is_overnight': False, 'start': '1630', 'end': '2300', 'day': 3},\n",
       "    {'is_overnight': False, 'start': '1630', 'end': '2300', 'day': 4},\n",
       "    {'is_overnight': False, 'start': '1630', 'end': '2300', 'day': 5},\n",
       "    {'is_overnight': False, 'start': '1630', 'end': '2300', 'day': 6}],\n",
       "   'hours_type': 'REGULAR',\n",
       "   'is_open_now': False}],\n",
       " 'transactions': ['delivery']}"
      ]
     },
     "execution_count": 9,
     "metadata": {},
     "output_type": "execute_result"
    }
   ],
   "source": [
    "a"
   ]
  },
  {
   "cell_type": "code",
   "execution_count": null,
   "metadata": {},
   "outputs": [],
   "source": [
    "# https://ipinfo.io/?token=1ce4968d3ff530\n",
    "34.0294,-118.2871"
   ]
  }
 ],
 "metadata": {
  "kernelspec": {
   "display_name": "Python 3.9.12 ('base')",
   "language": "python",
   "name": "python3"
  },
  "language_info": {
   "codemirror_mode": {
    "name": "ipython",
    "version": 3
   },
   "file_extension": ".py",
   "mimetype": "text/x-python",
   "name": "python",
   "nbconvert_exporter": "python",
   "pygments_lexer": "ipython3",
   "version": "3.9.12"
  },
  "orig_nbformat": 4,
  "vscode": {
   "interpreter": {
    "hash": "2ae0e0f45525ee6f49879a40cb2da4f4d22d755a0a3ed789b7eaeac57263e622"
   }
  }
 },
 "nbformat": 4,
 "nbformat_minor": 2
}
